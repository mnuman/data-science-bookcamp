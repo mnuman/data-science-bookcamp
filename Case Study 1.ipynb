{
 "cells": [
  {
   "cell_type": "markdown",
   "id": "16fdf074-ce68-49c4-aceb-0ce390e41503",
   "metadata": {},
   "source": [
    "# Data Science Bookcamp"
   ]
  },
  {
   "attachments": {
    "51bb7562-2e14-4448-87cf-1ee279fa2fae.jpg": {
     "image/jpeg": "[encoded data removed]"
    }
   },
   "cell_type": "markdown",
   "id": "9dc1d9e2-25bd-481e-8e97-5a47482ad921",
   "metadata": {},
   "source": [
    "![data-science-bookcamp.jpg](attachment:51bb7562-2e14-4448-87cf-1ee279fa2fae.jpg)"
   ]
  },
  {
   "cell_type": "markdown",
   "id": "d7c69b7a-c0f0-4fb3-a9e4-9933a15739d9",
   "metadata": {},
   "source": [
    "Code for solving case studies from Manning's [Data Science Bookcamp](https://www.manning.com/books/data-science-bookcamp) - book received Nov 11 2021, $39.95 including shipping (from Sep 9 2019 MEAP order)."
   ]
  },
  {
   "cell_type": "markdown",
   "id": "b41c935f-b469-4f68-bd1d-d409cc07fd26",
   "metadata": {},
   "source": [
    "## Chapter 1 - Computing Probabilities using Python"
   ]
  },
  {
   "cell_type": "code",
   "execution_count": 15,
   "id": "7fc2378b-da83-4b87-a049-76e2958c0f17",
   "metadata": {},
   "outputs": [],
   "source": [
    "sample_space = {'Heads', 'Tails'}"
   ]
  },
  {
   "cell_type": "code",
   "execution_count": 16,
   "id": "4327ccc4-914d-42e9-bfc1-3e9e6912e914",
   "metadata": {},
   "outputs": [
    {
     "name": "stdout",
     "output_type": "stream",
     "text": [
      "Probability of choosing heads is 0.5\n"
     ]
    }
   ],
   "source": [
    "probability_heads = 1 / len(sample_space)\n",
    "print(f'Probability of choosing heads is {probability_heads}')"
   ]
  },
  {
   "cell_type": "code",
   "execution_count": 17,
   "id": "87a4dffc-3452-4a5a-9ce8-44ec47a0ec24",
   "metadata": {},
   "outputs": [],
   "source": [
    "# defining event conditions\n",
    "def is_head_or_tails(outcome):\n",
    "    return outcome in {'Heads', 'Tails'}\n",
    "\n",
    "def is_neither(outcome):\n",
    "    return not is_head_or_tails(outcome)\n",
    "\n",
    "def is_heads(outcome):\n",
    "    return outcome == 'Heads'\n",
    "\n",
    "def is_tails(outcome):\n",
    "    return outcome == 'Tails'\n",
    "\n",
    "def get_matching_event(event_condition, sample_space):\n",
    "    return set([outcome for outcome in sample_space if event_condition(outcome)])"
   ]
  },
  {
   "cell_type": "code",
   "execution_count": 18,
   "id": "2a68a157-758f-49b4-953f-87316903ce98",
   "metadata": {},
   "outputs": [
    {
     "name": "stdout",
     "output_type": "stream",
     "text": [
      "Event condition: is_neither\n",
      "Event: set()\n",
      "\n",
      "Event condition: is_head_or_tails\n",
      "Event: {'Heads', 'Tails'}\n",
      "\n",
      "Event condition: is_tails\n",
      "Event: {'Tails'}\n",
      "\n",
      "Event condition: is_heads\n",
      "Event: {'Heads'}\n",
      "\n"
     ]
    }
   ],
   "source": [
    "event_conditions = {is_head_or_tails, is_heads, is_tails, is_neither}\n",
    "for event_condition in event_conditions:\n",
    "    print(f\"Event condition: {event_condition.__name__}\")\n",
    "    event = get_matching_event(event_condition, sample_space)\n",
    "    print(f\"Event: {event}\\n\")"
   ]
  },
  {
   "cell_type": "code",
   "execution_count": 19,
   "id": "2a225871-498c-4147-a7cf-42cf9ccb081b",
   "metadata": {},
   "outputs": [],
   "source": [
    "def compute_probability(event_condition, generic_sample_space):\n",
    "    event = get_matching_event(event_condition, generic_sample_space)\n",
    "    return len(event)/len(generic_sample_space)"
   ]
  },
  {
   "cell_type": "code",
   "execution_count": 20,
   "id": "dc2d23f6-f661-4bd1-b879-73ed3fd189c2",
   "metadata": {},
   "outputs": [
    {
     "name": "stdout",
     "output_type": "stream",
     "text": [
      "Probability of event arising from 'is_neither' is 0.0\n",
      "Probability of event arising from 'is_head_or_tails' is 1.0\n",
      "Probability of event arising from 'is_tails' is 0.5\n",
      "Probability of event arising from 'is_heads' is 0.5\n"
     ]
    }
   ],
   "source": [
    "for event_condition in event_conditions:\n",
    "    prob = compute_probability(event_condition, sample_space)\n",
    "    name = event_condition.__name__\n",
    "    print(f\"Probability of event arising from '{name}' is {prob}\")"
   ]
  },
  {
   "cell_type": "markdown",
   "id": "8d0e2526-e61c-4ace-bcd6-11e6bdc820db",
   "metadata": {},
   "source": [
    "Using a biased coin - assuming heads is 4 times more probable than tails is."
   ]
  },
  {
   "cell_type": "code",
   "execution_count": 21,
   "id": "6a3c394b-766f-4c5b-9502-8b00246af8de",
   "metadata": {},
   "outputs": [],
   "source": [
    "weighted_sample_space = {'Heads' : 4, 'Tails':1}"
   ]
  },
  {
   "cell_type": "code",
   "execution_count": 22,
   "id": "ff583182-e4c7-4093-9a57-9201a605f2cf",
   "metadata": {},
   "outputs": [],
   "source": [
    "sample_space_size = sum(weighted_sample_space.values())\n",
    "assert sample_space_size == 5"
   ]
  },
  {
   "cell_type": "code",
   "execution_count": 23,
   "id": "d7d823a0-1841-4ae7-be70-e5ebe1bcb68c",
   "metadata": {},
   "outputs": [],
   "source": [
    "event = get_matching_event(is_head_or_tails, weighted_sample_space)\n",
    "event_size = sum(weighted_sample_space[outcome] for outcome in event)\n",
    "assert event_size == 5"
   ]
  },
  {
   "cell_type": "code",
   "execution_count": 24,
   "id": "c72eeb91-d1e0-41a5-9a88-5e2cc4b070cf",
   "metadata": {},
   "outputs": [],
   "source": [
    "def compute_event_probability(event_condition, generic_sample_space):\n",
    "    event = get_matching_event(event_condition, generic_sample_space)\n",
    "    if type(generic_sample_space) == type(set()):\n",
    "        return len(event)/len(generic_sample_space)\n",
    "    event_size = sum(generic_sample_space[outcome] for outcome in event)\n",
    "    return event_size /sum(generic_sample_space.values())\n",
    "    "
   ]
  },
  {
   "cell_type": "code",
   "execution_count": 27,
   "id": "d6b0a063-e158-4bbe-a2e3-fd180ca45b57",
   "metadata": {},
   "outputs": [
    {
     "name": "stdout",
     "output_type": "stream",
     "text": [
      "==== Using a biased coin ====\n",
      "Probability of event arising from 'is_neither' is 0.0\n",
      "Probability of event arising from 'is_head_or_tails' is 1.0\n",
      "Probability of event arising from 'is_tails' is 0.2\n",
      "Probability of event arising from 'is_heads' is 0.8\n"
     ]
    }
   ],
   "source": [
    "print(\"==== Using a biased coin ====\")\n",
    "for event_condition in event_conditions:\n",
    "    prob = compute_event_probability(event_condition, weighted_sample_space)\n",
    "    name = event_condition.__name__\n",
    "    print(f\"Probability of event arising from '{name}' is {prob}\")"
   ]
  },
  {
   "cell_type": "code",
   "execution_count": null,
   "id": "4d784b3d-0014-4ad3-bb13-792d8c974ecc",
   "metadata": {},
   "outputs": [],
   "source": []
  }
 ],
 "metadata": {
  "kernelspec": {
   "display_name": "Python 3 (ipykernel)",
   "language": "python",
   "name": "python3"
  },
  "language_info": {
   "codemirror_mode": {
    "name": "ipython",
    "version": 3
   },
   "file_extension": ".py",
   "mimetype": "text/x-python",
   "name": "python",
   "nbconvert_exporter": "python",
   "pygments_lexer": "ipython3",
   "version": "3.11.7"
  }
 },
 "nbformat": 4,
 "nbformat_minor": 5
}
